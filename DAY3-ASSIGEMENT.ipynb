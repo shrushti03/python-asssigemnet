{
 "cells": [
  {
   "cell_type": "markdown",
   "metadata": {},
   "source": [
    "ASSIGEMET1=DAY3"
   ]
  },
  {
   "cell_type": "code",
   "execution_count": 1,
   "metadata": {},
   "outputs": [
    {
     "name": "stdout",
     "output_type": "stream",
     "text": [
      "Enter the value of n: 45\n",
      "Sum of first 45 natural numbers is:  1035\n"
     ]
    }
   ],
   "source": [
    "num = int(input(\"Enter the value of n: \"))\n",
    "hold = num\n",
    "sum = 0\n",
    "\n",
    "if num <= 0: \n",
    "    print(\"Enter a whole positive number!\") \n",
    "else: \n",
    "    while num > 0:\n",
    "        sum = sum + num\n",
    "        num = num - 1;\n",
    "    # displaying output\n",
    "    print(\"Sum of first\", hold, \"natural numbers is: \", sum)"
   ]
  },
  {
   "cell_type": "markdown",
   "metadata": {},
   "source": [
    "ASSIGEMENT2-DAY3"
   ]
  },
  {
   "cell_type": "code",
   "execution_count": 15,
   "metadata": {},
   "outputs": [
    {
     "name": "stdout",
     "output_type": "stream",
     "text": [
      "Enter the number:2\n",
      "2 is a prime\n"
     ]
    }
   ],
   "source": [
    "number=int(input(\"Enter the number:\"))\n",
    "if number > 1:\n",
    "    for i in range(2,number):\n",
    "        if(number % i)==0:\n",
    "            print(number,\" is not a prime\")\n",
    "        break\n",
    "    else:\n",
    "            print(number,\"is a prime\")\n",
    "else:\n",
    "        print(number,\"is not a prime\")"
   ]
  },
  {
   "cell_type": "code",
   "execution_count": 14,
   "metadata": {},
   "outputs": [
    {
     "name": "stdout",
     "output_type": "stream",
     "text": [
      "Enter the a number\n",
      "45\n",
      "45 is not a prime number\n"
     ]
    }
   ],
   "source": [
    "import math\n",
    "print (\"Enter the a number\")\n",
    "number = int(input())\n",
    "\n",
    "i = 2\n",
    "prime = True\n",
    "\n",
    "\n",
    "while i <= int(math.sqrt(number)):\n",
    "    if number%i == 0:\n",
    "        prime = False\n",
    "        break\n",
    "    i = i+1\n",
    "\n",
    "if number < 2:\n",
    "    prime = False\n",
    "\n",
    "if prime:\n",
    "    print (number,\"is a prime number\")\n",
    "else:\n",
    "    print (number,\"is not a prime number\")"
   ]
  }
 ],
 "metadata": {
  "kernelspec": {
   "display_name": "Python 3",
   "language": "python",
   "name": "python3"
  },
  "language_info": {
   "codemirror_mode": {
    "name": "ipython",
    "version": 3
   },
   "file_extension": ".py",
   "mimetype": "text/x-python",
   "name": "python",
   "nbconvert_exporter": "python",
   "pygments_lexer": "ipython3",
   "version": "3.7.6"
  }
 },
 "nbformat": 4,
 "nbformat_minor": 4
}
